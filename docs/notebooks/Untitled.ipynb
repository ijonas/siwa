{
 "cells": [
  {
   "cell_type": "code",
   "execution_count": 15,
   "id": "1a3d6d1a",
   "metadata": {},
   "outputs": [],
   "source": [
    "import numpy as np\n",
    "import pandas as pd\n",
    "import matplotlib.pyplot as plt\n",
    "import os"
   ]
  },
  {
   "cell_type": "code",
   "execution_count": 12,
   "id": "1c5c27d2",
   "metadata": {},
   "outputs": [],
   "source": [
    "import os\n",
    "#os.listdir('../../data/')"
   ]
  },
  {
   "cell_type": "code",
   "execution_count": 69,
   "id": "10f8937d",
   "metadata": {},
   "outputs": [],
   "source": [
    "res={}\n",
    "for v in [1,2,3]:                                                                                                                                 \n",
    "    for p in [.01,.02,.03]:                                                                                                                       \n",
    "        res[(v,p)] = pd.read_csv(f'../../data/GAUSS_{h}_{v}_{p}_.1.csv', index_col=0)   \n",
    "        #plt.plot(res[(v,p)])"
   ]
  },
  {
   "cell_type": "code",
   "execution_count": 92,
   "id": "5f39c377",
   "metadata": {
    "scrolled": true
   },
   "outputs": [
    {
     "ename": "KeyError",
     "evalue": "(30, 1, 0.01)",
     "output_type": "error",
     "traceback": [
      "\u001b[0;31m---------------------------------------------------------------------------\u001b[0m",
      "\u001b[0;31mKeyError\u001b[0m                                  Traceback (most recent call last)",
      "Cell \u001b[0;32mIn[92], line 1\u001b[0m\n\u001b[0;32m----> 1\u001b[0m plt\u001b[38;5;241m.\u001b[39mplot(\u001b[43mres\u001b[49m\u001b[43m[\u001b[49m\u001b[43m(\u001b[49m\u001b[38;5;241;43m30\u001b[39;49m\u001b[43m,\u001b[49m\u001b[38;5;241;43m1\u001b[39;49m\u001b[43m,\u001b[49m\u001b[38;5;241;43m.01\u001b[39;49m\u001b[43m)\u001b[49m\u001b[43m]\u001b[49m)\n",
      "\u001b[0;31mKeyError\u001b[0m: (30, 1, 0.01)"
     ]
    }
   ],
   "source": [
    "plt.plot(res[(30,1,.01)])"
   ]
  },
  {
   "cell_type": "code",
   "execution_count": 89,
   "id": "37b7f9bf",
   "metadata": {},
   "outputs": [],
   "source": [
    "def ret(f,i,side=1):\n",
    "    return np.sign(f)*side*(f/i - 1)"
   ]
  },
  {
   "cell_type": "code",
   "execution_count": 91,
   "id": "87b5931c",
   "metadata": {
    "scrolled": true
   },
   "outputs": [
    {
     "data": {
      "text/plain": [
       "11.0"
      ]
     },
     "execution_count": 91,
     "metadata": {},
     "output_type": "execute_result"
    }
   ],
   "source": [
    "ret(-10,1)"
   ]
  },
  {
   "cell_type": "code",
   "execution_count": null,
   "id": "0a9b4a44",
   "metadata": {},
   "outputs": [],
   "source": []
  }
 ],
 "metadata": {
  "kernelspec": {
   "display_name": "Python 3 (ipykernel)",
   "language": "python",
   "name": "python3"
  },
  "language_info": {
   "codemirror_mode": {
    "name": "ipython",
    "version": 3
   },
   "file_extension": ".py",
   "mimetype": "text/x-python",
   "name": "python",
   "nbconvert_exporter": "python",
   "pygments_lexer": "ipython3",
   "version": "3.11.2"
  }
 },
 "nbformat": 4,
 "nbformat_minor": 5
}
